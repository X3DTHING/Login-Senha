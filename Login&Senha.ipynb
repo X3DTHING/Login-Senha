{
  "nbformat": 4,
  "nbformat_minor": 0,
  "metadata": {
    "colab": {
      "provenance": [],
      "authorship_tag": "ABX9TyOuBs9IkcRhQbvjrXeV037g",
      "include_colab_link": true
    },
    "kernelspec": {
      "name": "python3",
      "display_name": "Python 3"
    },
    "language_info": {
      "name": "python"
    }
  },
  "cells": [
    {
      "cell_type": "markdown",
      "metadata": {
        "id": "view-in-github",
        "colab_type": "text"
      },
      "source": [
        "<a href=\"https://colab.research.google.com/github/X3DTHING/Login-Senha/blob/main/Login%26Senha.ipynb\" target=\"_parent\"><img src=\"https://colab.research.google.com/assets/colab-badge.svg\" alt=\"Open In Colab\"/></a>"
      ]
    },
    {
      "cell_type": "code",
      "execution_count": 5,
      "metadata": {
        "colab": {
          "base_uri": "https://localhost:8080/"
        },
        "id": "x6xIlm1mpyQq",
        "outputId": "8d7d4979-03d9-4596-fa83-b30b869ef9e1"
      },
      "outputs": [
        {
          "output_type": "stream",
          "name": "stdout",
          "text": [
            "Digite o usuário: Anderson\n",
            "Digite a senha: anderson\n",
            "Usuário não encontrado. Por favor, entre em contato com o administrador.\n"
          ]
        }
      ],
      "source": [
        "usuarios_senhas = {\n",
        "    \"usuario1\": \"senha1\",\n",
        "    \"usuario2\": \"senha2\",\n",
        "    \"usuario3\": \"senha3\"\n",
        "}\n",
        "\n",
        "def login():\n",
        "    usuario = input(\"Digite o usuário: \")\n",
        "    senha = input(\"Digite a senha: \")\n",
        "\n",
        "    if usuario in usuarios_senhas:\n",
        "        if senha == usuarios_senhas[usuario]:\n",
        "            print(\"Usuário logado:\", usuario)\n",
        "        else:\n",
        "            print(\"Senha incorreta. Por favor, digite novamente.\")\n",
        "            login()\n",
        "    else:\n",
        "        print(\"Usuário não encontrado. Por favor, entre em contato com o administrador.\")\n",
        "\n",
        "login()\n",
        "\n"
      ]
    }
  ]
}